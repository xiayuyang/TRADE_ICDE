{
 "cells": [
  {
   "cell_type": "code",
   "execution_count": null,
   "metadata": {},
   "outputs": [],
   "source": [
    "match_list_size = 10\n",
    "closest_idx = 7\n",
    "max_range = max(closest_idx + 1, match_list_size - closest_idx)\n",
    "jump = 3\n",
    "for search_idx in range(jump, 2 * max_range):\n",
    "    cur_idx = (closest_idx + search_idx // 2) if search_idx % 2 == 0 else (closest_idx - 1 - search_idx // 2 )\n",
    "    if (cur_idx >= 0 and cur_idx <= (match_list_size - 1)):\n",
    "        print(cur_idx)"
   ]
  },
  {
   "cell_type": "code",
   "execution_count": null,
   "metadata": {},
   "outputs": [],
   "source": [
    "import time\n",
    "\n",
    "t0 = time.time()\n",
    "time.sleep(2)\n",
    "t1 = time.time()\n",
    "\n",
    "print(t1 - t0)"
   ]
  },
  {
   "cell_type": "code",
   "execution_count": null,
   "metadata": {},
   "outputs": [],
   "source": [
    "import pickle\n",
    "\n",
    "cid_tid_dict = dict()\n",
    "with open('/data1/xiayuyang/gitee_mtmc/test_tracklet.pkl','rb') as f:\n",
    "    lines = pickle.load(f)\n",
    "for line in lines:\n",
    "    tracklet = lines[line]\n",
    "    cid = int(tracklet['cam'][-1:])\n",
    "    tracklet = lines[line]\n",
    "    tid = tracklet['tid']\n",
    "    if (cid, tid) not in cid_tid_dict:\n",
    "        cid_tid_dict[(cid, tid)] = tracklet\n",
    "    print(cid_tid_dict.keys())\n",
    "    print(cid_tid_dict.values())\n",
    "    break\n"
   ]
  },
  {
   "cell_type": "code",
   "execution_count": 22,
   "metadata": {},
   "outputs": [
    {
     "name": "stdout",
     "output_type": "stream",
     "text": [
      "precision:  1.0\n",
      "recall:  1.0\n"
     ]
    }
   ],
   "source": [
    "import motmetrics as mm\n",
    "\n",
    "acc = mm.MOTAccumulator(auto_id=True)\n",
    "\n",
    "# data[frame_id]['gt'][2d-list]\n",
    "# key是帧号\n",
    "\n",
    "data = {\n",
    "    1: {'gt': [[1, 10, 20, 30, 40], [2, 50, 60, 70, 80]],\n",
    "        'detections': [[1, 12, 22, 32, 42], [3, 52, 62, 72, 82]]},\n",
    "    2: {'gt': [[1, 15, 25, 35, 45], [2, 55, 65, 75, 85]],\n",
    "        'detections': [[2, 52, 62, 72, 82], [3, 18, 28, 38, 48]]},\n",
    "}\n",
    "\n",
    "for frame, frame_data in data.items():\n",
    "    gt = frame_data['gt']\n",
    "    detections = frame_data['detections']\n",
    "    # 提取gt轨迹id和bbox框\n",
    "    gt_ids = [item[0] for item in gt]\n",
    "    gt_bboxes = [item[1:] for item in gt]\n",
    "    # 提取检测结果id和bbox框\n",
    "    detection_ids = [item[0] for item in detections]\n",
    "    detection_bboxes = [item[1:] for item in detections]\n",
    "\n",
    "    dists = mm.distances.iou_matrix(gt_bboxes, detection_bboxes, max_iou=0.5)\n",
    "\n",
    "    acc.update(gt_ids, detection_ids, dists)\n",
    "\n",
    "mh = mm.metrics.create()\n",
    "summary = mh.compute(acc, metrics=['num_frames', 'mota', 'motp', 'precision', 'recall'], name='acc')\n",
    "print('precision: ',summary['precision'][0])\n",
    "print('recall: ',summary['recall'][0])"
   ]
  }
 ],
 "metadata": {
  "kernelspec": {
   "display_name": "carla",
   "language": "python",
   "name": "python3"
  },
  "language_info": {
   "codemirror_mode": {
    "name": "ipython",
    "version": 3
   },
   "file_extension": ".py",
   "mimetype": "text/x-python",
   "name": "python",
   "nbconvert_exporter": "python",
   "pygments_lexer": "ipython3",
   "version": "3.11.5"
  },
  "orig_nbformat": 4
 },
 "nbformat": 4,
 "nbformat_minor": 2
}
