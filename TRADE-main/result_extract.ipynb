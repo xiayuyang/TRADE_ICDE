{
 "cells": [
  {
   "cell_type": "code",
   "execution_count": null,
   "metadata": {},
   "outputs": [],
   "source": [
    "# 读取txt文件\n",
    "file_path = 'study_json.txt'\n",
    "with open(file_path, 'r') as file:\n",
    "    lines = file.readlines()\n",
    "\n",
    "# 遍历每一行\n",
    "modified_lines = []\n",
    "for line in lines:\n",
    "    # 去除行尾空白字符\n",
    "    line = line.rstrip()\n",
    "\n",
    "    # 如果行以}结尾\n",
    "    if line.endswith('}'):\n",
    "        # 如果最后一个字符是逗号，则跳过\n",
    "        if line[-1] == ',':\n",
    "            modified_lines.append(line)\n",
    "        else:\n",
    "            # 添加逗号并添加到修改后的行列表中\n",
    "            modified_lines.append(line + ',')\n",
    "    else:\n",
    "        modified_lines.append(line)\n",
    "\n",
    "# 将修改后的行写入新文件\n",
    "output_file_path = 'output_text_file.txt'\n",
    "with open(output_file_path, 'w') as output_file:\n",
    "    output_file.write('\\n'.join(modified_lines))"
   ]
  },
  {
   "cell_type": "code",
   "execution_count": null,
   "metadata": {},
   "outputs": [],
   "source": [
    "def calculate_processing_time(txt_file, n, x):\n",
    "    # 读取txt文件并解析内容\n",
    "    with open(txt_file, 'r') as file:\n",
    "        lines = file.readlines()\n",
    "\n",
    "    # 统计前n行中accuracy大于x的行中processing time最小的5行\n",
    "    accuracy_time_pairs = []\n",
    "    for line in lines[:n]:\n",
    "        parts = line.strip().split()\n",
    "        if len(parts) == 7:\n",
    "            accuracy = float(parts[2][:-1])\n",
    "            processing_time = float(parts[-1])\n",
    "            if accuracy > x:\n",
    "                accuracy_time_pairs.append((accuracy, processing_time))\n",
    "\n",
    "    # 选择processing time最小的5行\n",
    "    selected_pairs = sorted(accuracy_time_pairs, key=lambda pair: pair[-1])[:5]\n",
    "\n",
    "    # 计算平均值\n",
    "    if selected_pairs:\n",
    "        average_processing_time = sum(pair[-1] for pair in selected_pairs) / len(selected_pairs)\n",
    "        return average_processing_time\n",
    "    else:\n",
    "        return None\n",
    "\n",
    "# 示例用法\n",
    "txt_file = 'output.txt'\n",
    "  # 前n行\n",
    "x = 0.6  # 设定的accuracy阈值\n",
    "\n",
    "for i in range(1,20):\n",
    "    n = i * 10   \n",
    "    average_processing_time = calculate_processing_time(txt_file, n, x)\n",
    "    print(f'epoch:{n},avg_time_cost:{average_processing_time/400}')\n"
   ]
  }
 ],
 "metadata": {
  "language_info": {
   "name": "python"
  }
 },
 "nbformat": 4,
 "nbformat_minor": 2
}
